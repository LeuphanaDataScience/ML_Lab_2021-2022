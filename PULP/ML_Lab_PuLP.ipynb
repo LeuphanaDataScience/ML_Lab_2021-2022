{
 "nbformat": 4,
 "nbformat_minor": 0,
 "metadata": {
  "colab": {
   "name": "ML_Lab_PuLP_Vanessa.ipynb",
   "provenance": [],
   "collapsed_sections": [],
   "toc_visible": true
  },
  "kernelspec": {
   "name": "python3",
   "display_name": "Python 3"
  },
  "language_info": {
   "name": "python"
  }
 },
 "cells": [
  {
   "cell_type": "markdown",
   "metadata": {
    "id": "o5QfxnXWROTp"
   },
   "source": [
    "# Vehicle Routing Problem Using PuLP Python Library"
   ]
  },
  {
   "cell_type": "markdown",
   "metadata": {
    "id": "IzmFTUbhTPeK"
   },
   "source": [
    "## Installing Required Modules"
   ]
  },
  {
   "cell_type": "code",
   "metadata": {
    "colab": {
     "base_uri": "https://localhost:8080/"
    },
    "id": "2980MybZRG7o",
    "outputId": "1619d86b-4f09-4c11-8885-004d64af2713"
   },
   "source": [
    "! pip install pulp"
   ],
   "execution_count": 1,
   "outputs": [
    {
     "output_type": "stream",
     "name": "stdout",
     "text": [
      "Collecting pulp\n",
      "  Downloading PuLP-2.6.0-py3-none-any.whl (14.2 MB)\n",
      "\u001B[K     |████████████████████████████████| 14.2 MB 23.3 MB/s \n",
      "\u001B[?25hInstalling collected packages: pulp\n",
      "Successfully installed pulp-2.6.0\n"
     ]
    }
   ]
  },
  {
   "cell_type": "code",
   "metadata": {
    "id": "ApgLpx4uS8If"
   },
   "source": [
    "import random\n",
    "import itertools\n",
    "import numpy as np\n",
    "import pandas as pd\n",
    "from pulp import *\n",
    "import matplotlib.pyplot as plt"
   ],
   "execution_count": 1,
   "outputs": []
  },
  {
   "cell_type": "markdown",
   "metadata": {
    "id": "2qYo7MCQVBYX"
   },
   "source": [
    "## Loading the Data"
   ]
  },
  {
   "cell_type": "code",
   "metadata": {
    "id": "I47G6j18TOJV"
   },
   "source": [
    "bus_stops_df = pd.read_csv('/Users/AnasSuffo/OneDrive/Python/uni/ML_Lab/Data/unique_bus_stops_ll.csv')"
   ],
   "execution_count": 2,
   "outputs": []
  },
  {
   "cell_type": "code",
   "metadata": {
    "colab": {
     "base_uri": "https://localhost:8080/",
     "height": 424
    },
    "id": "IawJ9HHaT4Fr",
    "outputId": "8be04c62-c829-4903-a3ba-a833f5626009"
   },
   "source": [
    "bus_stops_df"
   ],
   "execution_count": 3,
   "outputs": [
    {
     "data": {
      "text/plain": "    element_type       osmid                       name          x          y\n0           node   112147966     Abzweigung Bennerstedt  10.486970  53.314646\n1           node   185936288          Lüneburger Straße  10.522701  53.228851\n2           node   260372699  Karze, An den Hauskoppeln  10.673987  53.314295\n3           node   270544778          Universitätsallee  10.405261  53.230091\n4           node   275961621     Artlenburg, Grünstraße  10.492180  53.371934\n..           ...         ...                        ...        ...        ...\n662         node  7947700409                 Laave Dorf  11.068376  53.218722\n663         node  9005254482    Diersbüttel, Haus Nr.15  10.257986  53.100508\n664         node  9005254484                     Bockum  10.203350  53.090665\n665         node  9181347107             Laave Siedlung  11.044969  53.238832\n666         node  9181347116             Kaarßen Ausbau  11.058008  53.211877\n\n[667 rows x 5 columns]",
      "text/html": "<div>\n<style scoped>\n    .dataframe tbody tr th:only-of-type {\n        vertical-align: middle;\n    }\n\n    .dataframe tbody tr th {\n        vertical-align: top;\n    }\n\n    .dataframe thead th {\n        text-align: right;\n    }\n</style>\n<table border=\"1\" class=\"dataframe\">\n  <thead>\n    <tr style=\"text-align: right;\">\n      <th></th>\n      <th>element_type</th>\n      <th>osmid</th>\n      <th>name</th>\n      <th>x</th>\n      <th>y</th>\n    </tr>\n  </thead>\n  <tbody>\n    <tr>\n      <th>0</th>\n      <td>node</td>\n      <td>112147966</td>\n      <td>Abzweigung Bennerstedt</td>\n      <td>10.486970</td>\n      <td>53.314646</td>\n    </tr>\n    <tr>\n      <th>1</th>\n      <td>node</td>\n      <td>185936288</td>\n      <td>Lüneburger Straße</td>\n      <td>10.522701</td>\n      <td>53.228851</td>\n    </tr>\n    <tr>\n      <th>2</th>\n      <td>node</td>\n      <td>260372699</td>\n      <td>Karze, An den Hauskoppeln</td>\n      <td>10.673987</td>\n      <td>53.314295</td>\n    </tr>\n    <tr>\n      <th>3</th>\n      <td>node</td>\n      <td>270544778</td>\n      <td>Universitätsallee</td>\n      <td>10.405261</td>\n      <td>53.230091</td>\n    </tr>\n    <tr>\n      <th>4</th>\n      <td>node</td>\n      <td>275961621</td>\n      <td>Artlenburg, Grünstraße</td>\n      <td>10.492180</td>\n      <td>53.371934</td>\n    </tr>\n    <tr>\n      <th>...</th>\n      <td>...</td>\n      <td>...</td>\n      <td>...</td>\n      <td>...</td>\n      <td>...</td>\n    </tr>\n    <tr>\n      <th>662</th>\n      <td>node</td>\n      <td>7947700409</td>\n      <td>Laave Dorf</td>\n      <td>11.068376</td>\n      <td>53.218722</td>\n    </tr>\n    <tr>\n      <th>663</th>\n      <td>node</td>\n      <td>9005254482</td>\n      <td>Diersbüttel, Haus Nr.15</td>\n      <td>10.257986</td>\n      <td>53.100508</td>\n    </tr>\n    <tr>\n      <th>664</th>\n      <td>node</td>\n      <td>9005254484</td>\n      <td>Bockum</td>\n      <td>10.203350</td>\n      <td>53.090665</td>\n    </tr>\n    <tr>\n      <th>665</th>\n      <td>node</td>\n      <td>9181347107</td>\n      <td>Laave Siedlung</td>\n      <td>11.044969</td>\n      <td>53.238832</td>\n    </tr>\n    <tr>\n      <th>666</th>\n      <td>node</td>\n      <td>9181347116</td>\n      <td>Kaarßen Ausbau</td>\n      <td>11.058008</td>\n      <td>53.211877</td>\n    </tr>\n  </tbody>\n</table>\n<p>667 rows × 5 columns</p>\n</div>"
     },
     "execution_count": 3,
     "metadata": {},
     "output_type": "execute_result"
    }
   ]
  },
  {
   "cell_type": "code",
   "metadata": {
    "id": "W4p2_vYDM88C"
   },
   "source": [
    "distances_df = pd.read_csv('/Users/AnasSuffo/OneDrive/Python/uni/ML_Lab/Data/distance_matrix.csv')"
   ],
   "execution_count": 4,
   "outputs": []
  },
  {
   "cell_type": "code",
   "metadata": {
    "colab": {
     "base_uri": "https://localhost:8080/",
     "height": 600
    },
    "id": "ya_1x_RVNSZA",
    "outputId": "84018124-6650-4d04-cae8-e05e7dc6b891"
   },
   "source": [
    "distances_df"
   ],
   "execution_count": 5,
   "outputs": [
    {
     "data": {
      "text/plain": "                          name  Abzweigung Bennerstedt  Lüneburger Straße  \\\n0       Abzweigung Bennerstedt                   0.000          11506.145   \n1            Lüneburger Straße               11506.019              0.000   \n2    Karze, An den Hauskoppeln               16542.898          16606.675   \n3            Universitätsallee               14127.351           9691.050   \n4       Artlenburg, Grünstraße                8993.760          20499.905   \n..                         ...                     ...                ...   \n662                 Laave Dorf               39430.522          28813.393   \n663    Diersbüttel, Haus Nr.15               34603.240          27543.326   \n664                     Bockum               37182.744          31309.505   \n665             Laave Siedlung               35480.623          27097.272   \n666             Kaarßen Ausbau               39430.522          28813.393   \n\n     Karze, An den Hauskoppeln  Universitätsallee  Artlenburg, Grünstraße  \\\n0                    16542.898          14099.228                9009.327   \n1                    16606.675           9691.399               20515.346   \n2                        0.000          23934.566               18008.067   \n3                    24041.254              0.000               17878.271   \n4                    17996.791          17862.704                   0.000   \n..                         ...                ...                     ...   \n662                  25557.628          38303.516               43565.695   \n663                  43805.404          20475.889               38354.160   \n664                  46740.186          23055.393               40933.664   \n665                  20839.093          36587.395               38847.160   \n666                  25557.628          38303.516               43565.695   \n\n        Bitter   Zeetze I  Stapel II   Rosien I  ...  Rassau, Abzweig  \\\n0    37638.071  35480.616  32141.784  32141.784  ...        39414.412   \n1    27020.816  27067.203  27812.085  27812.085  ...        28797.157   \n2    25664.215  20862.517  16936.110  16936.110  ...        25581.052   \n3    36510.590  36556.977  36498.547  36498.547  ...        38286.931   \n4    43661.006  38859.308  34932.901  34932.901  ...        43577.843   \n..         ...        ...        ...        ...  ...              ...   \n662   4817.061   7633.805  13095.731  13095.731  ...            0.000   \n663  54362.866  54409.253  55154.135  55154.135  ...        56139.207   \n664  58129.045  58175.432  58920.314  58920.314  ...        59905.386   \n665   7716.968      0.000   8377.196   8377.196  ...         7633.805   \n666   4817.061   7633.805  13095.731  13095.731  ...            0.000   \n\n        Pinnau    Tripkau    Darchau  Oldendorf (Luhe), Abzw. Wohlenbüttel  \\\n0    39414.412  39414.412  32141.784                             32564.139   \n1    28797.157  28797.157  27812.085                             27419.307   \n2    25581.052  25581.052  16936.110                             42399.477   \n3    38286.931  38286.931  36498.547                             18464.911   \n4    43577.843  43577.843  34932.901                             36319.026   \n..         ...        ...        ...                                   ...   \n662      0.000      0.000  13095.731                             56031.424   \n663  56139.207  56139.207  55154.135                              6658.777   \n664  59905.386  59905.386  58920.314                              6636.979   \n665   7633.805   7633.805   8377.196                             54315.303   \n666      0.000      0.000  13095.731                             56031.424   \n\n     Laave Dorf  Diersbüttel, Haus Nr.15     Bockum  Laave Siedlung  \\\n0     39414.412                34546.418  37115.240       35480.616   \n1     28797.157                27582.845  31517.621       27067.203   \n2     25581.052                43699.732  46580.115       20862.517   \n3     38286.931                20447.190  23016.012       36556.977   \n4     43577.843                38301.305  40870.127       38859.308   \n..          ...                      ...        ...             ...   \n662       0.000                56194.962  60129.738        7633.805   \n663   56139.207                    0.000   4975.621       54409.253   \n664   59905.386                 4975.621      0.000       58175.432   \n665    7633.805                54478.841  58413.617           0.000   \n666       0.000                56194.962  60129.738        7633.805   \n\n     Kaarßen Ausbau  \n0         39414.412  \n1         28797.157  \n2         25581.052  \n3         38286.931  \n4         43577.843  \n..              ...  \n662           0.000  \n663       56139.207  \n664       59905.386  \n665        7633.805  \n666           0.000  \n\n[667 rows x 668 columns]",
      "text/html": "<div>\n<style scoped>\n    .dataframe tbody tr th:only-of-type {\n        vertical-align: middle;\n    }\n\n    .dataframe tbody tr th {\n        vertical-align: top;\n    }\n\n    .dataframe thead th {\n        text-align: right;\n    }\n</style>\n<table border=\"1\" class=\"dataframe\">\n  <thead>\n    <tr style=\"text-align: right;\">\n      <th></th>\n      <th>name</th>\n      <th>Abzweigung Bennerstedt</th>\n      <th>Lüneburger Straße</th>\n      <th>Karze, An den Hauskoppeln</th>\n      <th>Universitätsallee</th>\n      <th>Artlenburg, Grünstraße</th>\n      <th>Bitter</th>\n      <th>Zeetze I</th>\n      <th>Stapel II</th>\n      <th>Rosien I</th>\n      <th>...</th>\n      <th>Rassau, Abzweig</th>\n      <th>Pinnau</th>\n      <th>Tripkau</th>\n      <th>Darchau</th>\n      <th>Oldendorf (Luhe), Abzw. Wohlenbüttel</th>\n      <th>Laave Dorf</th>\n      <th>Diersbüttel, Haus Nr.15</th>\n      <th>Bockum</th>\n      <th>Laave Siedlung</th>\n      <th>Kaarßen Ausbau</th>\n    </tr>\n  </thead>\n  <tbody>\n    <tr>\n      <th>0</th>\n      <td>Abzweigung Bennerstedt</td>\n      <td>0.000</td>\n      <td>11506.145</td>\n      <td>16542.898</td>\n      <td>14099.228</td>\n      <td>9009.327</td>\n      <td>37638.071</td>\n      <td>35480.616</td>\n      <td>32141.784</td>\n      <td>32141.784</td>\n      <td>...</td>\n      <td>39414.412</td>\n      <td>39414.412</td>\n      <td>39414.412</td>\n      <td>32141.784</td>\n      <td>32564.139</td>\n      <td>39414.412</td>\n      <td>34546.418</td>\n      <td>37115.240</td>\n      <td>35480.616</td>\n      <td>39414.412</td>\n    </tr>\n    <tr>\n      <th>1</th>\n      <td>Lüneburger Straße</td>\n      <td>11506.019</td>\n      <td>0.000</td>\n      <td>16606.675</td>\n      <td>9691.399</td>\n      <td>20515.346</td>\n      <td>27020.816</td>\n      <td>27067.203</td>\n      <td>27812.085</td>\n      <td>27812.085</td>\n      <td>...</td>\n      <td>28797.157</td>\n      <td>28797.157</td>\n      <td>28797.157</td>\n      <td>27812.085</td>\n      <td>27419.307</td>\n      <td>28797.157</td>\n      <td>27582.845</td>\n      <td>31517.621</td>\n      <td>27067.203</td>\n      <td>28797.157</td>\n    </tr>\n    <tr>\n      <th>2</th>\n      <td>Karze, An den Hauskoppeln</td>\n      <td>16542.898</td>\n      <td>16606.675</td>\n      <td>0.000</td>\n      <td>23934.566</td>\n      <td>18008.067</td>\n      <td>25664.215</td>\n      <td>20862.517</td>\n      <td>16936.110</td>\n      <td>16936.110</td>\n      <td>...</td>\n      <td>25581.052</td>\n      <td>25581.052</td>\n      <td>25581.052</td>\n      <td>16936.110</td>\n      <td>42399.477</td>\n      <td>25581.052</td>\n      <td>43699.732</td>\n      <td>46580.115</td>\n      <td>20862.517</td>\n      <td>25581.052</td>\n    </tr>\n    <tr>\n      <th>3</th>\n      <td>Universitätsallee</td>\n      <td>14127.351</td>\n      <td>9691.050</td>\n      <td>24041.254</td>\n      <td>0.000</td>\n      <td>17878.271</td>\n      <td>36510.590</td>\n      <td>36556.977</td>\n      <td>36498.547</td>\n      <td>36498.547</td>\n      <td>...</td>\n      <td>38286.931</td>\n      <td>38286.931</td>\n      <td>38286.931</td>\n      <td>36498.547</td>\n      <td>18464.911</td>\n      <td>38286.931</td>\n      <td>20447.190</td>\n      <td>23016.012</td>\n      <td>36556.977</td>\n      <td>38286.931</td>\n    </tr>\n    <tr>\n      <th>4</th>\n      <td>Artlenburg, Grünstraße</td>\n      <td>8993.760</td>\n      <td>20499.905</td>\n      <td>17996.791</td>\n      <td>17862.704</td>\n      <td>0.000</td>\n      <td>43661.006</td>\n      <td>38859.308</td>\n      <td>34932.901</td>\n      <td>34932.901</td>\n      <td>...</td>\n      <td>43577.843</td>\n      <td>43577.843</td>\n      <td>43577.843</td>\n      <td>34932.901</td>\n      <td>36319.026</td>\n      <td>43577.843</td>\n      <td>38301.305</td>\n      <td>40870.127</td>\n      <td>38859.308</td>\n      <td>43577.843</td>\n    </tr>\n    <tr>\n      <th>...</th>\n      <td>...</td>\n      <td>...</td>\n      <td>...</td>\n      <td>...</td>\n      <td>...</td>\n      <td>...</td>\n      <td>...</td>\n      <td>...</td>\n      <td>...</td>\n      <td>...</td>\n      <td>...</td>\n      <td>...</td>\n      <td>...</td>\n      <td>...</td>\n      <td>...</td>\n      <td>...</td>\n      <td>...</td>\n      <td>...</td>\n      <td>...</td>\n      <td>...</td>\n      <td>...</td>\n    </tr>\n    <tr>\n      <th>662</th>\n      <td>Laave Dorf</td>\n      <td>39430.522</td>\n      <td>28813.393</td>\n      <td>25557.628</td>\n      <td>38303.516</td>\n      <td>43565.695</td>\n      <td>4817.061</td>\n      <td>7633.805</td>\n      <td>13095.731</td>\n      <td>13095.731</td>\n      <td>...</td>\n      <td>0.000</td>\n      <td>0.000</td>\n      <td>0.000</td>\n      <td>13095.731</td>\n      <td>56031.424</td>\n      <td>0.000</td>\n      <td>56194.962</td>\n      <td>60129.738</td>\n      <td>7633.805</td>\n      <td>0.000</td>\n    </tr>\n    <tr>\n      <th>663</th>\n      <td>Diersbüttel, Haus Nr.15</td>\n      <td>34603.240</td>\n      <td>27543.326</td>\n      <td>43805.404</td>\n      <td>20475.889</td>\n      <td>38354.160</td>\n      <td>54362.866</td>\n      <td>54409.253</td>\n      <td>55154.135</td>\n      <td>55154.135</td>\n      <td>...</td>\n      <td>56139.207</td>\n      <td>56139.207</td>\n      <td>56139.207</td>\n      <td>55154.135</td>\n      <td>6658.777</td>\n      <td>56139.207</td>\n      <td>0.000</td>\n      <td>4975.621</td>\n      <td>54409.253</td>\n      <td>56139.207</td>\n    </tr>\n    <tr>\n      <th>664</th>\n      <td>Bockum</td>\n      <td>37182.744</td>\n      <td>31309.505</td>\n      <td>46740.186</td>\n      <td>23055.393</td>\n      <td>40933.664</td>\n      <td>58129.045</td>\n      <td>58175.432</td>\n      <td>58920.314</td>\n      <td>58920.314</td>\n      <td>...</td>\n      <td>59905.386</td>\n      <td>59905.386</td>\n      <td>59905.386</td>\n      <td>58920.314</td>\n      <td>6636.979</td>\n      <td>59905.386</td>\n      <td>4975.621</td>\n      <td>0.000</td>\n      <td>58175.432</td>\n      <td>59905.386</td>\n    </tr>\n    <tr>\n      <th>665</th>\n      <td>Laave Siedlung</td>\n      <td>35480.623</td>\n      <td>27097.272</td>\n      <td>20839.093</td>\n      <td>36587.395</td>\n      <td>38847.160</td>\n      <td>7716.968</td>\n      <td>0.000</td>\n      <td>8377.196</td>\n      <td>8377.196</td>\n      <td>...</td>\n      <td>7633.805</td>\n      <td>7633.805</td>\n      <td>7633.805</td>\n      <td>8377.196</td>\n      <td>54315.303</td>\n      <td>7633.805</td>\n      <td>54478.841</td>\n      <td>58413.617</td>\n      <td>0.000</td>\n      <td>7633.805</td>\n    </tr>\n    <tr>\n      <th>666</th>\n      <td>Kaarßen Ausbau</td>\n      <td>39430.522</td>\n      <td>28813.393</td>\n      <td>25557.628</td>\n      <td>38303.516</td>\n      <td>43565.695</td>\n      <td>4817.061</td>\n      <td>7633.805</td>\n      <td>13095.731</td>\n      <td>13095.731</td>\n      <td>...</td>\n      <td>0.000</td>\n      <td>0.000</td>\n      <td>0.000</td>\n      <td>13095.731</td>\n      <td>56031.424</td>\n      <td>0.000</td>\n      <td>56194.962</td>\n      <td>60129.738</td>\n      <td>7633.805</td>\n      <td>0.000</td>\n    </tr>\n  </tbody>\n</table>\n<p>667 rows × 668 columns</p>\n</div>"
     },
     "execution_count": 5,
     "metadata": {},
     "output_type": "execute_result"
    }
   ]
  },
  {
   "cell_type": "code",
   "metadata": {
    "id": "KjV4QwDmZXHE"
   },
   "source": [
    "distances_array = distances_df.iloc[:,1:].values"
   ],
   "execution_count": 6,
   "outputs": []
  },
  {
   "cell_type": "code",
   "metadata": {
    "colab": {
     "base_uri": "https://localhost:8080/"
    },
    "id": "si-Jagx6Z7qZ",
    "outputId": "2b7a1e48-a3d6-4343-8836-0ebe95440f6f"
   },
   "source": [
    "distances_array"
   ],
   "execution_count": 7,
   "outputs": [
    {
     "data": {
      "text/plain": "array([[    0.   , 11506.145, 16542.898, ..., 37115.24 , 35480.616,\n        39414.412],\n       [11506.019,     0.   , 16606.675, ..., 31517.621, 27067.203,\n        28797.157],\n       [16542.898, 16606.675,     0.   , ..., 46580.115, 20862.517,\n        25581.052],\n       ...,\n       [37182.744, 31309.505, 46740.186, ...,     0.   , 58175.432,\n        59905.386],\n       [35480.623, 27097.272, 20839.093, ..., 58413.617,     0.   ,\n         7633.805],\n       [39430.522, 28813.393, 25557.628, ..., 60129.738,  7633.805,\n            0.   ]])"
     },
     "execution_count": 7,
     "metadata": {},
     "output_type": "execute_result"
    }
   ]
  },
  {
   "cell_type": "markdown",
   "metadata": {
    "id": "zogdA5LtVGx5"
   },
   "source": [
    "## Defining the Mathematical Problem (Minimal Solution)"
   ]
  },
  {
   "cell_type": "markdown",
   "metadata": {
    "id": "sBfvIx4BW6dO"
   },
   "source": [
    "### Objective Function"
   ]
  },
  {
   "cell_type": "markdown",
   "metadata": {
    "id": "JTXUMYPnbkz0"
   },
   "source": [
    "Minimizing the distance travelled by the bus:"
   ]
  },
  {
   "cell_type": "markdown",
   "metadata": {
    "id": "Oi2wDvnLW9uL"
   },
   "source": [
    "min $\\sum_{b = 1}^B \\sum_{(i,j) \\in N} x_{(i,j)}^b * d_{i,j}$"
   ]
  },
  {
   "cell_type": "markdown",
   "metadata": {
    "id": "6bkuHrsFbIoV"
   },
   "source": [
    "### Decision Variables"
   ]
  },
  {
   "cell_type": "markdown",
   "metadata": {
    "id": "ZVx-VDkxbLwR"
   },
   "source": [
    "Bus $b$ has taken route (edge) $a_{(i,j)} = (i,j)$:"
   ]
  },
  {
   "cell_type": "markdown",
   "metadata": {
    "id": "Poak5yYHcK6m"
   },
   "source": [
    "$x_{(i,j)}^b \\in \\{0, 1\\}$"
   ]
  },
  {
   "cell_type": "markdown",
   "metadata": {
    "id": "N9QtQAX6cXRg"
   },
   "source": [
    "Bus $b$ stops at node $n$:"
   ]
  },
  {
   "cell_type": "markdown",
   "metadata": {
    "id": "c_IzKzmtcdy2"
   },
   "source": [
    "$z_n^b \\in \\{0, 1\\}$"
   ]
  },
  {
   "cell_type": "markdown",
   "metadata": {
    "id": "nDJFDPURbMqA"
   },
   "source": [
    "### Constraints"
   ]
  },
  {
   "cell_type": "markdown",
   "metadata": {
    "id": "4vyHBQxQnHgh"
   },
   "source": [
    "More than one visit per bus $b$ per node $i$:"
   ]
  },
  {
   "cell_type": "markdown",
   "metadata": {
    "id": "hmNzt944nUAq"
   },
   "source": [
    "$\\sum_{b = 1}^B \\sum_{i \\in N, i \\neq j} x_{(i,j)}^b >= 1$, $\\forall j \\in N \\setminus \\{D\\}$"
   ]
  },
  {
   "cell_type": "markdown",
   "metadata": {
    "id": "N49Z-5XbbPLE"
   },
   "source": [
    "Departure from (and Arrival at) Depot $D$:"
   ]
  },
  {
   "cell_type": "markdown",
   "metadata": {
    "id": "VBbOIix_jF3E"
   },
   "source": [
    "$\\sum_{j \\in N \\setminus \\{D\\}} x_{Dj}^b == 1$, $\\forall b \\in B$"
   ]
  },
  {
   "cell_type": "markdown",
   "metadata": {
    "id": "s7A9z6zd5gAA"
   },
   "source": [
    "$\\sum_{i \\in N \\setminus \\{D\\}} x_{iD}^b == 1$, $\\forall b \\in B$"
   ]
  },
  {
   "cell_type": "markdown",
   "metadata": {
    "id": "P4YwbkknmI6R"
   },
   "source": [
    "Final Destination $T$ Last Stop before Depot:"
   ]
  },
  {
   "cell_type": "markdown",
   "metadata": {
    "id": "CC1-baNTmPt1"
   },
   "source": [
    "$x_{TD}^b == 1$, $\\forall b \\in B$"
   ]
  },
  {
   "cell_type": "markdown",
   "metadata": {
    "id": "vw9wd7obkoFy"
   },
   "source": [
    "Flow Conservation Constraint: Number of buses coming in and out of a node $i$ is the same"
   ]
  },
  {
   "cell_type": "markdown",
   "metadata": {
    "id": "6eBmnmUDlro3"
   },
   "source": [
    "$\\sum_{i \\in N, i \\neq j} x_{(i,j)}^b - \\sum_{i \\in N} x_{(j,i)}^b == 0$, $\\forall j \\in N, \\forall b \\in B$"
   ]
  },
  {
   "cell_type": "markdown",
   "metadata": {
    "id": "s_W59Q27r-rN"
   },
   "source": [
    "All people $p$ at bus stop $h$ are being picked up by any bus $b$:"
   ]
  },
  {
   "cell_type": "markdown",
   "metadata": {
    "id": "GIWzoVQEs-G3"
   },
   "source": [
    "$\\sum_{b = 1}^B z_h^b * s_b^b == p_h$, $\\forall h \\in H$"
   ]
  },
  {
   "cell_type": "markdown",
   "metadata": {
    "id": "43Eis1kq8Kbx"
   },
   "source": [
    "Removal of Subtours:"
   ]
  },
  {
   "cell_type": "markdown",
   "metadata": {
    "id": "l9MiIMmw8QhL"
   },
   "source": [
    "$\\sum_{b = 1}^B \\sum_{(i,j) \\in S, i \\neq j} x_{(i,j)}^b \\leq |S| - 1$, $S \\subseteq N \\setminus \\{D\\}$"
   ]
  },
  {
   "cell_type": "markdown",
   "metadata": {
    "id": "uTpYmiSLrCMy"
   },
   "source": [
    "Constraint for Decision Variables:"
   ]
  },
  {
   "cell_type": "markdown",
   "metadata": {
    "id": "KiO3qNUhrHQo"
   },
   "source": [
    "$x_{(i,j)}^b \\in \\{0,1\\}$, $\\forall b \\in B, \\forall (i,j) \\in A$"
   ]
  },
  {
   "cell_type": "markdown",
   "metadata": {
    "id": "Ae1M6hiMmnlj"
   },
   "source": [
    "$z_n^b \\in \\{0, 1\\}$, $\\forall b \\in B, \\forall n \\in N$"
   ]
  },
  {
   "cell_type": "markdown",
   "metadata": {
    "id": "nXjXh4xCi2hJ"
   },
   "source": [
    "## Implementing the Mathematical Problem (Minimal Solution)"
   ]
  },
  {
   "cell_type": "markdown",
   "metadata": {
    "id": "vSbLYVCMToJa"
   },
   "source": [
    "#### Definition of the Variables"
   ]
  },
  {
   "cell_type": "code",
   "metadata": {
    "id": "GM-sBOYxVLzQ"
   },
   "source": [
    "# number of bus stations (0 is depot and the last one is the destination)\n",
    "stop_count = 12\n",
    "\n",
    "# number of buses\n",
    "bus_count = 1\n",
    "\n",
    "# number of maximum passengers per bus stop\n",
    "passenger_count = 10"
   ],
   "execution_count": 8,
   "outputs": []
  },
  {
   "cell_type": "code",
   "metadata": {
    "id": "9U6sI45-aWai"
   },
   "source": [
    "numbers = list(np.random.randint(0, distances_array.shape[0], size=stop_count))"
   ],
   "execution_count": 9,
   "outputs": []
  },
  {
   "cell_type": "code",
   "metadata": {
    "id": "__s1JRFfbIHk"
   },
   "source": [
    "distances_array_sel = distances_array[numbers,:]\n",
    "distances_array_sel = distances_array_sel[:, numbers]"
   ],
   "execution_count": 10,
   "outputs": []
  },
  {
   "cell_type": "code",
   "execution_count": 11,
   "outputs": [],
   "source": [
    "distances_array_sel[stop_count-1, 0] = 0"
   ],
   "metadata": {
    "collapsed": false,
    "pycharm": {
     "name": "#%%\n"
    }
   }
  },
  {
   "cell_type": "code",
   "execution_count": 12,
   "outputs": [
    {
     "data": {
      "text/plain": "array([[    0.   , 24869.796, 22842.165,  2624.401,  6989.393,  7240.319,\n        31935.238,  5971.76 , 15056.908, 15560.768, 33273.306,  7829.81 ],\n       [24801.607,     0.   ,  4500.99 , 22339.186, 28244.542, 30058.455,\n         9602.189, 20282.075, 11703.33 ,  9757.719, 15449.863, 29765.744],\n       [22773.976,  4500.99 ,     0.   , 20311.555, 26325.317, 28030.824,\n         9668.615, 18254.444, 12979.238,  7730.088, 13752.528, 27738.113],\n       [ 2662.893, 22468.933, 20441.302,     0.   ,  6383.264,  7924.836,\n        29534.375,  3570.897, 12656.045, 13159.905, 30689.89 ,  7796.06 ],\n       [ 7022.937, 28405.006, 26377.375,  6378.316,     0.   ,  8410.843,\n        35470.448,  9506.97 , 16813.382, 19095.978, 37068.206,  6000.053],\n       [ 7222.087, 30170.231, 28142.6  ,  7924.836,  8423.158,     0.   ,\n        37235.673, 11272.195, 20357.343, 20861.203, 37768.805,  8209.714],\n       [31882.024,  9569.872,  9668.615, 29419.603, 35433.365, 37138.872,\n            0.   , 27362.492, 20445.134, 16838.136,  7984.121, 36846.161],\n       [ 6010.252, 20363.176, 18335.545,  3497.219,  9561.593, 11216.488,\n        27428.618,     0.   , 10550.288, 11054.148, 30721.502, 10974.389],\n       [14988.712, 11703.33 , 12965.811, 12526.291, 16541.212, 20245.56 ,\n        20430.159, 10469.18 ,     0.   ,  6827.723, 26025.449, 19380.811],\n       [15492.572,  9757.712,  7730.081, 13030.151, 19043.913, 20749.42 ,\n        16823.154, 10973.04 ,  6841.143,     0.   , 21482.609, 20456.709],\n       [33286.778, 15426.439, 13752.528, 30720.308, 37103.572, 37773.25 ,\n         7984.121, 30409.734, 26025.449, 21482.616,     0.   , 38516.368],\n       [    0.   , 29829.027, 27801.396,  7802.337,  6153.686,  8196.053,\n        36894.469, 10930.991, 19367.285, 20519.999, 38492.227,     0.   ]])"
     },
     "execution_count": 12,
     "metadata": {},
     "output_type": "execute_result"
    }
   ],
   "source": [
    "distances_array_sel"
   ],
   "metadata": {
    "collapsed": false,
    "pycharm": {
     "name": "#%%\n"
    }
   }
  },
  {
   "cell_type": "code",
   "metadata": {
    "id": "VU-R015ydajv"
   },
   "source": [
    "bus_stops_sel = bus_stops_df.iloc[numbers]"
   ],
   "execution_count": 13,
   "outputs": []
  },
  {
   "cell_type": "code",
   "metadata": {
    "colab": {
     "base_uri": "https://localhost:8080/"
    },
    "id": "bU3bgGad1YuK",
    "outputId": "c3442995-80fd-404b-e026-1729989edf24"
   },
   "source": [
    "demand = list(np.random.randint(1, passenger_count, stop_count))\n",
    "demand[0] = 0\n",
    "demand[stop_count-1] = 0\n",
    "\n",
    "bus_stops_sel['demand'] = demand"
   ],
   "execution_count": 14,
   "outputs": [
    {
     "name": "stderr",
     "output_type": "stream",
     "text": [
      "<ipython-input-14-f256508c08a0>:5: SettingWithCopyWarning: \n",
      "A value is trying to be set on a copy of a slice from a DataFrame.\n",
      "Try using .loc[row_indexer,col_indexer] = value instead\n",
      "\n",
      "See the caveats in the documentation: https://pandas.pydata.org/pandas-docs/stable/user_guide/indexing.html#returning-a-view-versus-a-copy\n",
      "  bus_stops_sel['demand'] = demand\n"
     ]
    }
   ]
  },
  {
   "cell_type": "code",
   "metadata": {
    "colab": {
     "base_uri": "https://localhost:8080/",
     "height": 677
    },
    "id": "w63fWFPsdroY",
    "outputId": "89af61d6-ee67-4d90-e0a8-17c92931dfcd"
   },
   "source": [
    "bus_stops_sel"
   ],
   "execution_count": 15,
   "outputs": [
    {
     "data": {
      "text/plain": "    element_type       osmid                     name          x          y  \\\n15          node   304485122   Graf-von-Moltke-Straße  10.438544  53.237269   \n366         node  1801577708                Marschweg  10.720181  53.297112   \n444         node  2936577452     Breetze, Bokelstraße  10.709379  53.264648   \n152         node   471796360             Hagen-Schule  10.447364  53.244064   \n67          node   386915979               Imkerstieg  10.388762  53.274634   \n84          node   411085018               Pilgerpfad  10.378393  53.209902   \n564         node  4487714196           Gülstorf Abzw.  10.845886  53.264528   \n317         node  1195426701      Otto-Brenner-Straße  10.478437  53.242305   \n508         node  3366247106  Neumühlen bei Rullstorf  10.585835  53.287492   \n43          node   323130841             Neetzebrücke  10.615070  53.265062   \n503         node  3352332070     Ventschau, Ortsmitte  10.856331  53.201110   \n613         node  5835144894       Dachtmisser Straße  10.344905  53.250619   \n\n     demand  \n15        0  \n366       2  \n444       1  \n152       7  \n67        7  \n84        7  \n564       5  \n317       6  \n508       7  \n43        6  \n503       4  \n613       0  ",
      "text/html": "<div>\n<style scoped>\n    .dataframe tbody tr th:only-of-type {\n        vertical-align: middle;\n    }\n\n    .dataframe tbody tr th {\n        vertical-align: top;\n    }\n\n    .dataframe thead th {\n        text-align: right;\n    }\n</style>\n<table border=\"1\" class=\"dataframe\">\n  <thead>\n    <tr style=\"text-align: right;\">\n      <th></th>\n      <th>element_type</th>\n      <th>osmid</th>\n      <th>name</th>\n      <th>x</th>\n      <th>y</th>\n      <th>demand</th>\n    </tr>\n  </thead>\n  <tbody>\n    <tr>\n      <th>15</th>\n      <td>node</td>\n      <td>304485122</td>\n      <td>Graf-von-Moltke-Straße</td>\n      <td>10.438544</td>\n      <td>53.237269</td>\n      <td>0</td>\n    </tr>\n    <tr>\n      <th>366</th>\n      <td>node</td>\n      <td>1801577708</td>\n      <td>Marschweg</td>\n      <td>10.720181</td>\n      <td>53.297112</td>\n      <td>2</td>\n    </tr>\n    <tr>\n      <th>444</th>\n      <td>node</td>\n      <td>2936577452</td>\n      <td>Breetze, Bokelstraße</td>\n      <td>10.709379</td>\n      <td>53.264648</td>\n      <td>1</td>\n    </tr>\n    <tr>\n      <th>152</th>\n      <td>node</td>\n      <td>471796360</td>\n      <td>Hagen-Schule</td>\n      <td>10.447364</td>\n      <td>53.244064</td>\n      <td>7</td>\n    </tr>\n    <tr>\n      <th>67</th>\n      <td>node</td>\n      <td>386915979</td>\n      <td>Imkerstieg</td>\n      <td>10.388762</td>\n      <td>53.274634</td>\n      <td>7</td>\n    </tr>\n    <tr>\n      <th>84</th>\n      <td>node</td>\n      <td>411085018</td>\n      <td>Pilgerpfad</td>\n      <td>10.378393</td>\n      <td>53.209902</td>\n      <td>7</td>\n    </tr>\n    <tr>\n      <th>564</th>\n      <td>node</td>\n      <td>4487714196</td>\n      <td>Gülstorf Abzw.</td>\n      <td>10.845886</td>\n      <td>53.264528</td>\n      <td>5</td>\n    </tr>\n    <tr>\n      <th>317</th>\n      <td>node</td>\n      <td>1195426701</td>\n      <td>Otto-Brenner-Straße</td>\n      <td>10.478437</td>\n      <td>53.242305</td>\n      <td>6</td>\n    </tr>\n    <tr>\n      <th>508</th>\n      <td>node</td>\n      <td>3366247106</td>\n      <td>Neumühlen bei Rullstorf</td>\n      <td>10.585835</td>\n      <td>53.287492</td>\n      <td>7</td>\n    </tr>\n    <tr>\n      <th>43</th>\n      <td>node</td>\n      <td>323130841</td>\n      <td>Neetzebrücke</td>\n      <td>10.615070</td>\n      <td>53.265062</td>\n      <td>6</td>\n    </tr>\n    <tr>\n      <th>503</th>\n      <td>node</td>\n      <td>3352332070</td>\n      <td>Ventschau, Ortsmitte</td>\n      <td>10.856331</td>\n      <td>53.201110</td>\n      <td>4</td>\n    </tr>\n    <tr>\n      <th>613</th>\n      <td>node</td>\n      <td>5835144894</td>\n      <td>Dachtmisser Straße</td>\n      <td>10.344905</td>\n      <td>53.250619</td>\n      <td>0</td>\n    </tr>\n  </tbody>\n</table>\n</div>"
     },
     "execution_count": 15,
     "metadata": {},
     "output_type": "execute_result"
    }
   ]
  },
  {
   "cell_type": "markdown",
   "metadata": {
    "id": "l4lM53N4U5Fm"
   },
   "source": [
    "#### Defining the Decision Variables"
   ]
  },
  {
   "cell_type": "code",
   "metadata": {
    "id": "8XYLWEfxUy8P"
   },
   "source": [
    "# decision variables (0/1) are already constrained by function definition\n",
    "\n",
    "# variable x indicating whether bus b has taken route (i,j)\n",
    "x = [[[LpVariable(\"x%s_%s,%s\"%(i,j,b), cat=\"Binary\") if i != j else None\n",
    "                                                     for b in range(bus_count)]\n",
    "                                                     for j in range(stop_count)]\n",
    "                                                     for i in range(stop_count)]\n",
    "\n",
    "# variable z indicating whether bus b stops at bus stop n\n",
    "#z = LpVariable.dicts('z', ((n,b) for n in range(stop_count) for b in range(bus_count)), cat='Binary')"
   ],
   "execution_count": 16,
   "outputs": []
  },
  {
   "cell_type": "markdown",
   "metadata": {
    "id": "Ibknf-kwUnc_"
   },
   "source": [
    "#### Setting the Problem and the Objective Function"
   ]
  },
  {
   "cell_type": "code",
   "metadata": {
    "id": "PWbC8WrgUlh2"
   },
   "source": [
    "# definition of LpProblem instance\n",
    "problem = LpProblem(\"CVRP\", LpMinimize)\n",
    "\n",
    "# define Objective Function\n",
    "problem += lpSum(distances_array_sel[i][j] * x[i][j][b] if i != j else 0\n",
    "                 for b in range(bus_count)\n",
    "                 for i in range(stop_count) \n",
    "                 for j in range(stop_count))"
   ],
   "execution_count": 17,
   "outputs": []
  },
  {
   "cell_type": "markdown",
   "metadata": {
    "id": "oOHeqilZh6sD"
   },
   "source": [
    "#### Setting Constraints"
   ]
  },
  {
   "cell_type": "code",
   "metadata": {
    "id": "ruflrOT8X6Oi"
   },
   "source": [
    "# one or more visit per bus per bus stop\n",
    "for j in range(1, stop_count):\n",
    "    problem += lpSum(x[i][j][b] if i != j else 0 \n",
    "                     for i in range(stop_count) \n",
    "                     for b in range(bus_count)) >= 1\n",
    "\n",
    "# departure from (and return to) depot and final destination as last point before depot\n",
    "for b in range(bus_count):\n",
    "    problem += lpSum(x[0][j][b] for j in range(1,stop_count)) == 1\n",
    "    problem += lpSum(x[i][0][b] for i in range(1,stop_count)) == 1\n",
    "    problem += x[stop_count-1][0][b] == 1\n",
    "\n",
    "# number of buses coming in and out of a node are the same\n",
    "for b in range(bus_count):\n",
    "    for j in range(stop_count):\n",
    "        problem += lpSum(x[i][j][b] if i != j else 0 \n",
    "                         for i in range(stop_count)) -  lpSum(x[j][i][b] for i in range(stop_count)) == 0\n",
    "\n",
    "# removal of subtours (up to 12 stop points working)\n",
    "subtours = []\n",
    "for i in range(2,stop_count):\n",
    "      subtours += combination(range(1,stop_count), i)\n",
    "for s in subtours:\n",
    "    problem += lpSum(x[i][j][b] if i !=j else 0 for i, j in permutation(s,2) for b in range(bus_count)) <= len(s) - 1"
   ],
   "execution_count": 18,
   "outputs": []
  },
  {
   "cell_type": "markdown",
   "metadata": {
    "id": "wt6rQyIqoG5-"
   },
   "source": [
    "#### Solving the Problem"
   ]
  },
  {
   "cell_type": "code",
   "metadata": {
    "id": "174ph3S2n8Hu"
   },
   "source": [
    "status = problem.solve()"
   ],
   "execution_count": 19,
   "outputs": []
  },
  {
   "cell_type": "code",
   "metadata": {
    "colab": {
     "base_uri": "https://localhost:8080/"
    },
    "id": "u9LpFUu3oWNR",
    "outputId": "448fb21e-b2e2-4581-cbf4-1a4a04e5518e"
   },
   "source": [
    "# output status, value of objective function\n",
    "status, LpStatus[status], value(problem.objective)"
   ],
   "execution_count": 20,
   "outputs": [
    {
     "data": {
      "text/plain": "(1, 'Optimal', 101151.14700000001)"
     },
     "execution_count": 20,
     "metadata": {},
     "output_type": "execute_result"
    }
   ]
  },
  {
   "cell_type": "markdown",
   "metadata": {
    "id": "KFZpsWror3um"
   },
   "source": [
    "#### Plot Solution"
   ]
  },
  {
   "cell_type": "code",
   "metadata": {
    "colab": {
     "base_uri": "https://localhost:8080/",
     "height": 592
    },
    "id": "gV6PsxgZw2vm",
    "outputId": "d0c1dd33-d744-4327-c632-1d9410f7b364"
   },
   "source": [
    "index_list = list(bus_stops_sel.index)\n",
    "\n",
    "plt.figure(figsize=(10, 10))\n",
    "\n",
    "ax = plt.axes()\n",
    "ax.set_facecolor('xkcd:grey')\n",
    "\n",
    "# draw problem state\n",
    "for i, row in bus_stops_sel.iterrows():\n",
    "    if i == index_list[0]:\n",
    "        plt.scatter(row['x'], row['y'], c='r')\n",
    "        plt.text(row['x'] + 0.01, row['y'] + 0.001, 'depot')\n",
    "    elif i == index_list[stop_count-1]:\n",
    "        plt.scatter(row['x'], row['y'], c='r')\n",
    "        plt.text(row['x'] + 0.01, row['y'] + 0.001, 'target')\n",
    "    else:\n",
    "        plt.scatter(row['x'], row['y'], c='black')\n",
    "        # demand = row['demand']\n",
    "        plt.text(row['x'] + 0.01, row['y'] + 0.001, 'stop')\n",
    "plt.show()"
   ],
   "execution_count": 21,
   "outputs": [
    {
     "data": {
      "text/plain": "<Figure size 720x720 with 1 Axes>",
      "image/png": "[encoded data removed]"
     },
     "metadata": {
      "needs_background": "light"
     },
     "output_type": "display_data"
    }
   ]
  },
  {
   "cell_type": "code",
   "metadata": {
    "colab": {
     "base_uri": "https://localhost:8080/",
     "height": 607
    },
    "id": "OkgIdsFuqhSK",
    "outputId": "142ad72f-318e-42b7-d079-b391b275e9d0"
   },
   "source": [
    "plt.figure(figsize=(10, 10))\n",
    "\n",
    "ax = plt.axes()\n",
    "ax.set_facecolor('xkcd:grey')\n",
    "\n",
    "# draw problem state\n",
    "for i, row in bus_stops_sel.iterrows():\n",
    "    if i == index_list[0]:\n",
    "        plt.scatter(row['x'], row['y'], c='r')\n",
    "        plt.text(row['x'] + 0.01, row['y'] + 0.001, 'depot')\n",
    "    elif i == index_list[stop_count-1]:\n",
    "        plt.scatter(row['x'], row['y'], c='r')\n",
    "        plt.text(row['x'] + 0.01, row['y'] + 0.001, 'target')\n",
    "    else:\n",
    "        plt.scatter(row['x'], row['y'], c='black')\n",
    "        # demand = row['demand']\n",
    "        plt.text(row['x'] + 0.01, row['y'] + 0.001, 'stop')\n",
    "        \n",
    "#plt.xlim([5, 15])\n",
    "#plt.ylim([50, 60])\n",
    "plt.title('Route')\n",
    "\n",
    "# draw optimal route\n",
    "cmap = plt.get_cmap('Dark2')\n",
    "\n",
    "routes = []\n",
    "for b in range(bus_count):\n",
    "    bus_route = [(i,j) for i in range(stop_count) for j in range(stop_count) if i != j and value(x[i][j][b]) == 1]\n",
    "    routes.append(bus_route)\n",
    "\n",
    "    # draw for each vehicle\n",
    "    arrowprops = dict(arrowstyle='->', connectionstyle='arc3', edgecolor=cmap(b))\n",
    "    for i, j in bus_route:\n",
    "        plt.annotate('', xy=[bus_stops_sel.iloc[j]['x'], bus_stops_sel.iloc[j]['y']], xytext=[bus_stops_sel.iloc[i]['x'], bus_stops_sel.iloc[i]['y']], arrowprops=arrowprops)\n",
    "                \n",
    "plt.show()"
   ],
   "execution_count": 22,
   "outputs": [
    {
     "data": {
      "text/plain": "<Figure size 720x720 with 1 Axes>",
      "image/png": "[encoded data removed]"
     },
     "metadata": {
      "needs_background": "light"
     },
     "output_type": "display_data"
    }
   ]
  },
  {
   "cell_type": "code",
   "metadata": {
    "colab": {
     "base_uri": "https://localhost:8080/"
    },
    "id": "jrCRYY_RvXTW",
    "outputId": "3c1e9e04-30c3-4dd1-aa4d-f31f145305b7",
    "pycharm": {
     "name": "#%%\n"
    }
   },
   "source": [
    "routes"
   ],
   "execution_count": 26,
   "outputs": [
    {
     "data": {
      "text/plain": "[[(0, 13),\n  (1, 3),\n  (2, 18),\n  (3, 8),\n  (4, 7),\n  (5, 19),\n  (6, 16),\n  (7, 1),\n  (8, 14),\n  (9, 2),\n  (10, 11),\n  (11, 4),\n  (12, 9),\n  (13, 15),\n  (14, 17),\n  (15, 6),\n  (16, 12),\n  (17, 5),\n  (18, 10),\n  (19, 0)]]"
     },
     "execution_count": 26,
     "metadata": {},
     "output_type": "execute_result"
    }
   ]
  }
 ]
}