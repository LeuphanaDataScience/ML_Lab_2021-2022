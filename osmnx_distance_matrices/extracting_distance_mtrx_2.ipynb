{
 "cells": [
  {
   "cell_type": "code",
   "execution_count": 13,
   "id": "eaae54d0-4b1c-4b16-8b73-f0ea80e40444",
   "metadata": {},
   "outputs": [],
   "source": [
    "import osmnx as ox\n",
    "import networkx as nx\n",
    "import geopandas as gpd\n",
    "import pandas as pd\n",
    "import numpy as np\n",
    "import warnings\n",
    "warnings.filterwarnings(\"ignore\")"
   ]
  },
  {
   "cell_type": "code",
   "execution_count": 2,
   "id": "1bba7d80-faef-47be-9509-c925f8b48e20",
   "metadata": {},
   "outputs": [],
   "source": [
    "towns = ['Bardowick, Bardowick, Germany',\n",
    "         'Vögelsen, Bardowick, Germany' ,\n",
    "         'Barum, Bardowick, Germany',\n",
    "         'Handorf, Bardowick, Germany',\n",
    "         'Mechtersen, Bardowick, Germany',\n",
    "         'Radbruch, Bardowick, Germany',\n",
    "         'Wittorf, Bardowick, Germany',\n",
    "         \n",
    "         'Kirchgellersen, Gellersen, Germany',\n",
    "         'Reppenstedt, Gellersen, Germany',\n",
    "         'Südergellersen, Gellersen, Germany',\n",
    "         'Westergellersen, Gellersen, Germany',\n",
    "         \n",
    "         'Barnstedt, Ilmenau, Germany',\n",
    "         'Deutsch Evern, Ilmenau, Germany',\n",
    "         'Embsen, Ilmenau, Germany',\n",
    "         'Melbeck, Ilmenau, Germany',\n",
    "         \n",
    "         'Barendorf, Ostheide, Germany',\n",
    "         'Neetze, Ostheide, Germany',\n",
    "         'Reinstorf, Ostheide, Germany',\n",
    "         'Thomasburg, Ostheide, Germany',\n",
    "         'Vastorf, Ostheide, Germany',\n",
    "         'Wendisch Evern, Ostheide, Germany',\n",
    "         \n",
    "         'Artlenburg, Scharnebeck, Germany',\n",
    "         'Brietlingen, Scharnebeck, Germany',\n",
    "         'Echem, Scharnebeck, Germany',\n",
    "         'Hittbergen, Scharnebeck, Germany',\n",
    "         'Lüdersburg, Scharnebeck, Germany',\n",
    "         'Rullstorf, Scharnebeck, Germany',\n",
    "         'Scharnebeck, Scharnebeck, Germany',\n",
    "        \n",
    "        'Lüneburg, Germany',\n",
    "        \n",
    "        'Adendorf, Germany',\n",
    "                'Amelinghausen, Amelinghausen, Germany',\n",
    "         \n",
    "        'Bleckede, Lüneburg, Germany',\n",
    "         \n",
    "        'Dahlenburg, Dahlenburg, Germany']"
   ]
  },
  {
   "cell_type": "code",
   "execution_count": 3,
   "id": "3c68166c-86db-4fa1-b918-19e5e4ce6159",
   "metadata": {
    "tags": []
   },
   "outputs": [],
   "source": [
    "#downloading the graph from osm\n",
    "L = ox.graph_from_place(towns, network_type='drive_service', simplify=True)"
   ]
  },
  {
   "cell_type": "code",
   "execution_count": 176,
   "id": "3348cde6-3f64-4d7a-b922-dcc8ba021f53",
   "metadata": {
    "tags": []
   },
   "outputs": [
    {
     "name": "stderr",
     "output_type": "stream",
     "text": [
      "/opt/anaconda3/envs/Py_3812/lib/python3.8/site-packages/geopandas/geodataframe.py:1351: SettingWithCopyWarning: \n",
      "A value is trying to be set on a copy of a slice from a DataFrame.\n",
      "Try using .loc[row_indexer,col_indexer] = value instead\n",
      "\n",
      "See the caveats in the documentation: https://pandas.pydata.org/pandas-docs/stable/user_guide/indexing.html#returning-a-view-versus-a-copy\n",
      "  super().__setitem__(key, value)\n"
     ]
    }
   ],
   "source": [
    "# obtaining bus stops coordinates in the same area\n",
    "bus_stops = ox.geometries_from_place(towns, {'highway':\"bus_stop\"})\n",
    "bus_stops.geometry = gpd.GeoSeries.representative_point(bus_stops).geometry\n",
    "\n",
    "# getting osmid values to a column\n",
    "bus_stops.index.name = '#'\n",
    "bus_stops.reset_index(inplace=True)\n",
    "\n",
    "# dropping duplicate bus stops\n",
    "unique_stops = bus_stops.drop_duplicates(subset=['name'])\n",
    "unique_stops['osmid'] = ox.distance.nearest_nodes(L, unique_stops.geometry.x, unique_stops.geometry.y)\n",
    "\n",
    "bus_ids = unique_stops['osmid'].tolist()"
   ]
  },
  {
   "cell_type": "code",
   "execution_count": 6,
   "id": "29055c1c-a081-4fa0-a6bb-a10ed790532a",
   "metadata": {},
   "outputs": [],
   "source": [
    "#Calculating distance matrix\n",
    "distance_matrix = np.zeros(shape=(len(bus_ids),len(bus_ids)))\n",
    "for i in range(0,len(bus_ids)):\n",
    "    for j in range(0,len(bus_ids)):\n",
    "        distance_matrix[i,j]=nx.shortest_path_length(L, bus_ids[i], bus_ids[j], weight='length')\n",
    "\n",
    "dm = pd.DataFrame(distance_matrix, columns=unique_stops['osmid']).dropna()\n",
    "dm = dm.set_index(unique_stops['osmid'])"
   ]
  },
  {
   "cell_type": "code",
   "execution_count": 11,
   "id": "ec7dc13a-8526-40fc-9c8f-ebdb5ff88890",
   "metadata": {},
   "outputs": [],
   "source": [
    "#saving necessary files\n",
    "unique_stops.to_csv('bus_stops.csv')\n",
    "dm.to_csv('distance_matrix_large.csv')"
   ]
  }
 ],
 "metadata": {
  "kernelspec": {
   "display_name": "Python 3 (ipykernel)",
   "language": "python",
   "name": "python3"
  },
  "language_info": {
   "codemirror_mode": {
    "name": "ipython",
    "version": 3
   },
   "file_extension": ".py",
   "mimetype": "text/x-python",
   "name": "python",
   "nbconvert_exporter": "python",
   "pygments_lexer": "ipython3",
   "version": "3.8.12"
  }
 },
 "nbformat": 4,
 "nbformat_minor": 5
}
