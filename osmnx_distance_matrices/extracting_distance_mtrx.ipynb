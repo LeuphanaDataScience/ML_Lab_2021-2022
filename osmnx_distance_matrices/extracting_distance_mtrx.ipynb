{
 "cells": [
  {
   "cell_type": "code",
   "execution_count": 1,
   "id": "eaae54d0-4b1c-4b16-8b73-f0ea80e40444",
   "metadata": {},
   "outputs": [
    {
     "ename": "ModuleNotFoundError",
     "evalue": "No module named 'osmnx'",
     "output_type": "error",
     "traceback": [
      "\u001b[1;31m---------------------------------------------------------------------------\u001b[0m",
      "\u001b[1;31mModuleNotFoundError\u001b[0m                       Traceback (most recent call last)",
      "\u001b[1;32m<ipython-input-1-7d84597baf12>\u001b[0m in \u001b[0;36m<module>\u001b[1;34m\u001b[0m\n\u001b[1;32m----> 1\u001b[1;33m \u001b[1;32mimport\u001b[0m \u001b[0mosmnx\u001b[0m \u001b[1;32mas\u001b[0m \u001b[0mox\u001b[0m\u001b[1;33m\u001b[0m\u001b[1;33m\u001b[0m\u001b[0m\n\u001b[0m\u001b[0;32m      2\u001b[0m \u001b[1;32mimport\u001b[0m \u001b[0mnetworkx\u001b[0m \u001b[1;32mas\u001b[0m \u001b[0mnx\u001b[0m\u001b[1;33m\u001b[0m\u001b[1;33m\u001b[0m\u001b[0m\n\u001b[0;32m      3\u001b[0m \u001b[1;32mimport\u001b[0m \u001b[0mgeopandas\u001b[0m \u001b[1;32mas\u001b[0m \u001b[0mgpd\u001b[0m\u001b[1;33m\u001b[0m\u001b[1;33m\u001b[0m\u001b[0m\n\u001b[0;32m      4\u001b[0m \u001b[1;32mimport\u001b[0m \u001b[0mpandas\u001b[0m \u001b[1;32mas\u001b[0m \u001b[0mpd\u001b[0m\u001b[1;33m\u001b[0m\u001b[1;33m\u001b[0m\u001b[0m\n\u001b[0;32m      5\u001b[0m \u001b[1;32mimport\u001b[0m \u001b[0mnumpy\u001b[0m \u001b[1;32mas\u001b[0m \u001b[0mnp\u001b[0m\u001b[1;33m\u001b[0m\u001b[1;33m\u001b[0m\u001b[0m\n",
      "\u001b[1;31mModuleNotFoundError\u001b[0m: No module named 'osmnx'"
     ]
    }
   ],
   "source": [
    "import osmnx as ox\n",
    "import networkx as nx\n",
    "import geopandas as gpd\n",
    "import pandas as pd\n",
    "import numpy as np\n",
    "import warnings\n",
    "warnings.filterwarnings(\"ignore\")"
   ]
  },
  {
   "cell_type": "code",
   "execution_count": null,
   "id": "1bba7d80-faef-47be-9509-c925f8b48e20",
   "metadata": {},
   "outputs": [],
   "source": [
    "towns = ['Bardowick, Bardowick, Germany',\n",
    "         'Vögelsen, Bardowick, Germany' ,\n",
    "         'Barum, Bardowick, Germany',\n",
    "         'Handorf, Bardowick, Germany',\n",
    "         'Mechtersen, Bardowick, Germany',\n",
    "         'Radbruch, Bardowick, Germany',\n",
    "         'Wittorf, Bardowick, Germany',\n",
    "         \n",
    "         'Kirchgellersen, Gellersen, Germany',\n",
    "         'Reppenstedt, Gellersen, Germany',\n",
    "         'Südergellersen, Gellersen, Germany',\n",
    "         'Westergellersen, Gellersen, Germany',\n",
    "         \n",
    "         'Barnstedt, Ilmenau, Germany',\n",
    "         'Deutsch Evern, Ilmenau, Germany',\n",
    "         'Embsen, Ilmenau, Germany',\n",
    "         'Melbeck, Ilmenau, Germany',\n",
    "         \n",
    "         'Barendorf, Ostheide, Germany',\n",
    "         'Neetze, Ostheide, Germany',\n",
    "         'Reinstorf, Ostheide, Germany',\n",
    "         'Thomasburg, Ostheide, Germany',\n",
    "         'Vastorf, Ostheide, Germany',\n",
    "         'Wendisch Evern, Ostheide, Germany',\n",
    "         \n",
    "         'Artlenburg, Scharnebeck, Germany',\n",
    "         'Brietlingen, Scharnebeck, Germany',\n",
    "         'Echem, Scharnebeck, Germany',\n",
    "         'Hittbergen, Scharnebeck, Germany',\n",
    "         'Lüdersburg, Scharnebeck, Germany',\n",
    "         'Rullstorf, Scharnebeck, Germany',\n",
    "         'Scharnebeck, Scharnebeck, Germany',\n",
    "        \n",
    "        'Lüneburg, Germany',\n",
    "        \n",
    "        'Adendorf, Germany',\n",
    "                'Amelinghausen, Amelinghausen, Germany',\n",
    "         \n",
    "        'Bleckede, Lüneburg, Germany',\n",
    "         \n",
    "        'Dahlenburg, Dahlenburg, Germany']"
   ]
  },
  {
   "cell_type": "code",
   "execution_count": null,
   "id": "3c68166c-86db-4fa1-b918-19e5e4ce6159",
   "metadata": {
    "tags": []
   },
   "outputs": [],
   "source": [
    "#downloading the graph from osm\n",
    "L = ox.graph_from_place(towns, network_type='drive_service', simplify=True)"
   ]
  },
  {
   "cell_type": "code",
   "execution_count": null,
   "id": "3348cde6-3f64-4d7a-b922-dcc8ba021f53",
   "metadata": {
    "tags": []
   },
   "outputs": [],
   "source": [
    "# obtaining bus stops coordinates in the same area\n",
    "bus_stops = ox.geometries_from_place(towns, {'highway':\"bus_stop\"})\n",
    "\n",
    "bus_points = bus_stops[bus_stops.geom_type == \"Point\"]\n",
    "\n",
    "# getting osmid values to a column\n",
    "bus_points.index.name = '#'\n",
    "bus_points.reset_index(inplace=True)\n",
    "\n",
    "# dropping duplicate bus stops\n",
    "unique_stops = bus_points.drop_duplicates(subset=['name'])\n",
    "unique_stops['osmid'] = ox.distance.nearest_nodes(L, unique_stops.geometry.x, unique_stops.geometry.y)\n",
    "\n",
    "bus_ids = unique_stops['osmid'].tolist()"
   ]
  },
  {
   "cell_type": "code",
   "execution_count": null,
   "id": "29055c1c-a081-4fa0-a6bb-a10ed790532a",
   "metadata": {},
   "outputs": [],
   "source": [
    "#Calculating distance matrix\n",
    "distance_matrix = np.zeros(shape=(len(bus_ids),len(bus_ids)))\n",
    "for i in range(0,len(bus_ids)):\n",
    "    for j in range(0,len(bus_ids)):\n",
    "        distance_matrix[i,j]=nx.shortest_path_length(L, bus_ids[i], bus_ids[j], weight='length')\n",
    "\n",
    "dm = pd.DataFrame(distance_matrix, columns=unique_stops['osmid']).dropna()\n",
    "dm = dm.set_index(unique_stops['osmid'])"
   ]
  },
  {
   "cell_type": "code",
   "execution_count": null,
   "id": "ec7dc13a-8526-40fc-9c8f-ebdb5ff88890",
   "metadata": {},
   "outputs": [],
   "source": [
    "#saving necessary files\n",
    "unique_stops.to_file('bus_stops')\n",
    "dm.to_csv('distance_matrix_large')"
   ]
  }
 ],
 "metadata": {
  "kernelspec": {
   "display_name": "Python 3 (ipykernel)",
   "language": "python",
   "name": "python3"
  },
  "language_info": {
   "codemirror_mode": {
    "name": "ipython",
    "version": 3
   },
   "file_extension": ".py",
   "mimetype": "text/x-python",
   "name": "python",
   "nbconvert_exporter": "python",
   "pygments_lexer": "ipython3",
   "version": "3.9.7"
  }
 },
 "nbformat": 4,
 "nbformat_minor": 5
}
